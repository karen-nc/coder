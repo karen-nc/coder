{
 "cells": [
  {
   "cell_type": "code",
   "execution_count": 2,
   "metadata": {},
   "outputs": [],
   "source": [
    "from plyer import notification\n",
    "import datetime\n",
    "\n",
    "def alerta (nivel, base, etapa):\n",
    "    niveis = {\n",
    "    1: \"ATENÇÃO: Alerta baixo!!\",\n",
    "    2: \"ATENÇÃO: Alerta médio!!\",\n",
    "    3: \"ATENÇÃO: Alerta alto!!\"\n",
    "    }\n",
    "\n",
    "    Titulo = niveis.get(nivel, \"Unknown\")\n",
    "    mensagem = f\"Falha no carregamento da base {base} na etapa {etapa}\"\n",
    "    data_atual = datetime.datetime.now().strftime(\"%Y-%m-%d %H:%M:%S\")\n",
    "\n",
    "    notification.notify(\n",
    "        title=Titulo,\n",
    "        message=mensagem + \"\\nData atual: \" + data_atual,\n",
    "        app_name=\"Alerta de Erro\",\n",
    "        timeout=2)\n",
    "    \n",
    "alerta(nivel=1, \n",
    "       base=\"CLIENTES\", \n",
    "       etapa=\"EXTRAÇÃO\")\n",
    "\n",
    "alerta(nivel=2, \n",
    "       base=\"CLIENTES\", \n",
    "       etapa=\"EXTRAÇÃO\")\n",
    "\n",
    "alerta(nivel=3, \n",
    "       base=\"CLIENTES\", \n",
    "       etapa=\"EXTRAÇÃO\")"
   ]
  }
 ],
 "metadata": {
  "kernelspec": {
   "display_name": "Python 3",
   "language": "python",
   "name": "python3"
  },
  "language_info": {
   "codemirror_mode": {
    "name": "ipython",
    "version": 3
   },
   "file_extension": ".py",
   "mimetype": "text/x-python",
   "name": "python",
   "nbconvert_exporter": "python",
   "pygments_lexer": "ipython3",
   "version": "3.10.4"
  },
  "orig_nbformat": 4
 },
 "nbformat": 4,
 "nbformat_minor": 2
}
