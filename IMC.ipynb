{
 "cells": [
  {
   "cell_type": "code",
   "execution_count": 6,
   "metadata": {},
   "outputs": [
    {
     "name": "stdout",
     "output_type": "stream",
     "text": [
      "Seu IMC é: 32.05\n",
      "Nível: Obesidade Grau I\n"
     ]
    }
   ],
   "source": [
    "# Cálculo do Índice de Massa Corporal (IMC). Aproveitei a aula sobre condicionais e codifiquei os grupos do IMC. \n",
    "\n",
    " \n",
    "altura = float(input(\"Qual sua altura em metros? \"))\n",
    "peso = float(input(\"Qual seu peso em kg: \"))\n",
    " \n",
    "imc = peso / altura**2\n",
    " \n",
    "print(\"Seu IMC é: %.2f\" % imc)\n",
    " \n",
    "if imc < 16:\n",
    "\tprint(\"Nível: Magreza grave\")\n",
    "elif imc < 17:\n",
    "\tprint(\"Nível: Magreza moderada\")\n",
    "elif imc < 18.5:\n",
    "\tprint(\"Nível: Magreza leve\")\n",
    "elif imc < 25:\n",
    "\tprint(\"Nível: Saudável\")\n",
    "elif imc < 30:\n",
    "\tprint(\"Nível: Sobrepeso\")\n",
    "elif imc < 35:\n",
    "\tprint(\"Nível: Obesidade Grau I\")\n",
    "elif imc < 40:\n",
    "\tprint(\"Nível: Obesidade Grau II (severa)\")\n",
    "else:\n",
    "\tprint(\"Nível: Obesidade Grau III (mórbida)\")\n",
    " "
   ]
  }
 ],
 "metadata": {
  "kernelspec": {
   "display_name": "Python 3",
   "language": "python",
   "name": "python3"
  },
  "language_info": {
   "name": "python",
   "version": "3.10.4"
  },
  "orig_nbformat": 4
 },
 "nbformat": 4,
 "nbformat_minor": 2
}
