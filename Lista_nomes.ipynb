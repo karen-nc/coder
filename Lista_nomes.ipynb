{
 "cells": [
  {
   "cell_type": "code",
   "execution_count": null,
   "metadata": {},
   "outputs": [],
   "source": [
    "# Faça um programa que peça ao usuário para digitar uma lista de nomes separados por vírgula e transforme essa lista em uma lista de strings.\n",
    "\n",
    "Nomes = input(\"Informe 5 nomes separando cada um por vírgula: \")\n",
    "\n",
    "Lista_nomes = Nomes.split(\",\")\n",
    "\n",
    "print(\"Nomes informados:\", Lista_nomes)\n"
   ]
  }
 ],
 "metadata": {
  "kernelspec": {
   "display_name": "Python 3",
   "language": "python",
   "name": "python3"
  },
  "language_info": {
   "codemirror_mode": {
    "name": "ipython",
    "version": 3
   },
   "file_extension": ".py",
   "mimetype": "text/x-python",
   "name": "python",
   "nbconvert_exporter": "python",
   "pygments_lexer": "ipython3",
   "version": "3.10.4"
  },
  "orig_nbformat": 4
 },
 "nbformat": 4,
 "nbformat_minor": 2
}
